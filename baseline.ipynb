{
 "cells": [
  {
   "cell_type": "markdown",
   "id": "a02f2bd4-c09b-4ea7-9a9e-92b1ea830a9f",
   "metadata": {},
   "source": [
    "# Scenario modelling"
   ]
  },
  {
   "cell_type": "markdown",
   "id": "801f21da-37a2-44ee-8436-61fe34b02714",
   "metadata": {},
   "source": [
    "## Set up environment"
   ]
  },
  {
   "cell_type": "code",
   "execution_count": 1,
   "id": "546f6200-20d6-4100-8645-7fb2810dcc94",
   "metadata": {},
   "outputs": [],
   "source": [
    "CM_BASEPATH = '../cibusmod'\n",
    "\n",
    "import sys\n",
    "import os\n",
    "sys.path.insert(0, os.path.join(os.getcwd(), CM_BASEPATH))"
   ]
  },
  {
   "cell_type": "code",
   "execution_count": 2,
   "id": "b2f6ea11-b95c-4de1-a0ed-280675beaa50",
   "metadata": {},
   "outputs": [],
   "source": [
    "import CIBUSmod as cm\n",
    "import CIBUSmod.utils.plot as plot\n",
    "\n",
    "import time\n",
    "import numpy as np\n",
    "import pandas as pd\n",
    "import scipy\n",
    "import matplotlib.pyplot as plt\n",
    "import cvxpy"
   ]
  },
  {
   "cell_type": "code",
   "execution_count": 3,
   "id": "31addc8c-8d1e-405b-8e94-054c50cecde4",
   "metadata": {},
   "outputs": [
    {
     "ename": "ImportError",
     "evalue": "cannot import name 'aggregate_data_coords_pair' from 'CIBUSmod.utils.misc' (/Users/wilhelmwanecek/dev/exjobb/eitm01-scenarios/../cibusmod/CIBUSmod/utils/misc.py)",
     "output_type": "error",
     "traceback": [
      "\u001b[0;31m---------------------------------------------------------------------------\u001b[0m",
      "\u001b[0;31mImportError\u001b[0m                               Traceback (most recent call last)",
      "Cell \u001b[0;32mIn[3], line 1\u001b[0m\n\u001b[0;32m----> 1\u001b[0m \u001b[38;5;28;01mfrom\u001b[39;00m\u001b[38;5;250m \u001b[39m\u001b[38;5;21;01mCIBUSmod\u001b[39;00m\u001b[38;5;21;01m.\u001b[39;00m\u001b[38;5;21;01mutils\u001b[39;00m\u001b[38;5;21;01m.\u001b[39;00m\u001b[38;5;21;01mmisc\u001b[39;00m\u001b[38;5;250m \u001b[39m\u001b[38;5;28;01mimport\u001b[39;00m inv_dict, aggregate_data_coords_pair\n\u001b[1;32m      2\u001b[0m \u001b[38;5;28;01mfrom\u001b[39;00m\u001b[38;5;250m \u001b[39m\u001b[38;5;21;01mCIBUSmod\u001b[39;00m\u001b[38;5;21;01m.\u001b[39;00m\u001b[38;5;21;01moptimisation\u001b[39;00m\u001b[38;5;21;01m.\u001b[39;00m\u001b[38;5;21;01mindexed_matrix\u001b[39;00m\u001b[38;5;250m \u001b[39m\u001b[38;5;28;01mimport\u001b[39;00m IndexedMatrix\n\u001b[1;32m      3\u001b[0m \u001b[38;5;28;01mfrom\u001b[39;00m\u001b[38;5;250m \u001b[39m\u001b[38;5;21;01mCIBUSmod\u001b[39;00m\u001b[38;5;21;01m.\u001b[39;00m\u001b[38;5;21;01moptimisation\u001b[39;00m\u001b[38;5;21;01m.\u001b[39;00m\u001b[38;5;21;01mutils\u001b[39;00m\u001b[38;5;250m \u001b[39m\u001b[38;5;28;01mimport\u001b[39;00m make_cvxpy_constraint\n",
      "\u001b[0;31mImportError\u001b[0m: cannot import name 'aggregate_data_coords_pair' from 'CIBUSmod.utils.misc' (/Users/wilhelmwanecek/dev/exjobb/eitm01-scenarios/../cibusmod/CIBUSmod/utils/misc.py)"
     ]
    }
   ],
   "source": [
    "from CIBUSmod.utils.misc import inv_dict, aggregate_data_coords_pair\n",
    "from CIBUSmod.optimisation.indexed_matrix import IndexedMatrix\n",
    "from CIBUSmod.optimisation.utils import make_cvxpy_constraint\n",
    "from itertools import product"
   ]
  },
  {
   "cell_type": "code",
   "execution_count": null,
   "id": "57d51304-0186-4af9-8154-135c83345793",
   "metadata": {},
   "outputs": [],
   "source": [
    "# Create session\n",
    "session = cm.Session(\n",
    "    name = 'main-mac',\n",
    "    data_path = CM_BASEPATH + \"/data\",\n",
    "    data_path_default = CM_BASEPATH + \"/data/default\",\n",
    "    data_path_scenarios = \"./workbooks\"\n",
    ")\n",
    "\n",
    "# Load scenarios\n",
    "session.add_scenario(\n",
    "    \"SCN_BASE\",\n",
    "    years=[2020],\n",
    "    pars = \"all\",\n",
    "    scenario_workbooks=\"base\"\n",
    ")\n",
    "\n",
    "session.add_scenario(\n",
    "    \"BASELINE\",\n",
    "    years=[2020],\n",
    "    pars = \"all\",\n",
    "    scenario_workbooks=\"default_fix\"\n",
    ")"
   ]
  },
  {
   "cell_type": "code",
   "execution_count": null,
   "id": "dc57ad7e-6f8e-474e-9e9a-06a8819e693c",
   "metadata": {},
   "outputs": [],
   "source": [
    "%%time\n",
    "\n",
    "scn = \"BASELINE\"\n",
    "\n",
    "retrievers = {\n",
    "    'Regions': cm.ParameterRetriever('Regions'),\n",
    "    'DemandAndConversions': cm.ParameterRetriever('DemandAndConversions'),\n",
    "    'CropProduction': cm.ParameterRetriever('CropProduction'),\n",
    "    'FeedMgmt': cm.ParameterRetriever('FeedMgmt'),\n",
    "    'GeoDistributor': cm.ParameterRetriever('GeoDistributor'),\n",
    "}\n",
    "\n",
    "cm.ParameterRetriever.update_all_parameter_values(**session[scn], year=2020)\n",
    "\n",
    "# Instatiate Regions\n",
    "regions = cm.Regions(\n",
    "    par = retrievers['Regions'],\n",
    ")\n",
    "\n",
    "# Instantiate DemandAndConversions\n",
    "demand = cm.DemandAndConversions(\n",
    "    par = retrievers['DemandAndConversions'],\n",
    ")\n",
    "\n",
    "# Instantiate CropProduction\n",
    "crops = cm.CropProduction(\n",
    "    par = retrievers['CropProduction'],\n",
    "    index = regions.data_attr.get('x0_crops').index\n",
    ")\n",
    "\n",
    "# Instantiate AnimalHerds\n",
    "# Each AnimalHerd object is stored in an indexed pandas.Series\n",
    "herds = cm.make_herds(regions)\n",
    "\n",
    "# Instantiate feed management\n",
    "feed_mgmt = cm.FeedMgmt(\n",
    "    herds = herds,\n",
    "    par = retrievers['FeedMgmt'],\n",
    ")\n",
    "\n",
    "# Instantiate geo distributor\n",
    "optproblem = cm.FeedDistributor(\n",
    "    regions = regions,\n",
    "    demand = demand,\n",
    "    crops = crops,\n",
    "    herds = herds,\n",
    "    feed_mgmt = feed_mgmt,\n",
    "    par = retrievers['GeoDistributor'],\n",
    ")\n",
    "\n",
    "self = optproblem"
   ]
  },
  {
   "cell_type": "code",
   "execution_count": null,
   "id": "ba028f28-25bc-43d1-85dc-65ecab03d010",
   "metadata": {},
   "outputs": [],
   "source": [
    "cm.ParameterRetriever.update_all_parameter_values()\n",
    "cm.ParameterRetriever.update_relation_tables()\n",
    "\n",
    "cm.ParameterRetriever.update_all_parameter_values(**session[scn], year=2020)\n",
    "\n",
    "regions.calculate()\n",
    "demand.calculate()\n",
    "crops.calculate()\n",
    "for h in herds:\n",
    "    h.calculate()\n",
    "\n",
    "self.make(use_cons=[1, 2, 3, 4, 5, 6, 10, 11, 12, 14], verbose=True)"
   ]
  },
  {
   "cell_type": "markdown",
   "id": "2e7e8764-c706-4550-93fc-92436ca5899f",
   "metadata": {
    "jp-MarkdownHeadingCollapsed": true
   },
   "source": [
    "## Data debugging"
   ]
  },
  {
   "cell_type": "markdown",
   "id": "cbfc38b4-056c-4d88-aabf-4110a9f8efda",
   "metadata": {},
   "source": [
    "### Ensure feed_to_prod matches feeds"
   ]
  },
  {
   "cell_type": "code",
   "execution_count": null,
   "id": "a2214224-870e-46ee-a311-035980118a59",
   "metadata": {},
   "outputs": [],
   "source": [
    "feed_to_prod_feeds = set(feed_mgmt.par.get_unique(\"feed\", qry='parameter==\"feed_to_prod\"').tolist())\n",
    "missing_feeds = set()\n",
    "for herd in self.herds:\n",
    "    missing_feeds.update(set(filter(\n",
    "        lambda f: f not in feed_to_prod_feeds,\n",
    "        herd.par.get_unique(\"feed\")\n",
    "    )))\n",
    "print(missing_feeds)"
   ]
  },
  {
   "cell_type": "markdown",
   "id": "bb617a0f-adc9-431c-b36f-088667e64e17",
   "metadata": {},
   "source": [
    "### List any crop/by products that are 100% imported"
   ]
  },
  {
   "cell_type": "code",
   "execution_count": null,
   "id": "7ff8e7b9-c27a-44ca-90ac-7f4776c27645",
   "metadata": {},
   "outputs": [],
   "source": [
    "imported = {}\n",
    "keys = [\"crop_prod\", \"by_prod\"]\n",
    "for bp_or_cp in keys:\n",
    "    feed_to_by_prod = self._get_feed_to_prod_factors(bp_or_cp, index=True)\n",
    "    _imported = feed_to_by_prod[feed_to_by_prod[\"share_domestic\"] == 0][[\"feed_to_prod\"]]\n",
    "    imported[bp_or_cp] = list(_imported.index.unique(\"feed\"))\n",
    "    \n",
    "set([x for k in keys for x in imported[k]])"
   ]
  },
  {
   "cell_type": "markdown",
   "id": "f8a98bc0-3c55-435a-a352-17e403d47b9a",
   "metadata": {},
   "source": [
    "## Improve numerics"
   ]
  },
  {
   "cell_type": "code",
   "execution_count": null,
   "id": "2eefbd0f-8740-430f-b9be-40e5792b0e64",
   "metadata": {},
   "outputs": [],
   "source": [
    "def print_ranges():\n",
    "    for k, v in self.matrices().items():\n",
    "        M = abs(v.M)\n",
    "        M = M[M > 0]\n",
    "        M_minmax = [M.min(), M.max()]\n",
    "        e_min, e_max = np.log10(M_minmax)\n",
    "        rng = e_max-e_min\n",
    "        if rng>4:\n",
    "            print(f\"{k}: {int(rng):,} {tuple(M_minmax)}\")\n",
    "\n",
    "print(\"RANGES BEFORE:\")\n",
    "print_ranges()\n",
    "\n",
    "# \"We recommend that you scale the matrix coefficients so that their range \n",
    "# is contained in six orders of magnitude or less, and hopefully within [1e-3, 1e6].\"\n",
    "\n",
    "# AND:\n",
    "# rhs should be on the order of 1e4 or less\n",
    "# optimal value is less than 1e4\n",
    "\n",
    "\n",
    "def rescale_constraints():\n",
    "    constraints_to_scale = filter(\n",
    "        lambda cons_label: any([c_nr in cons_label for c_nr in [\"C1\", \"C12\"]]),\n",
    "        self.constraints.keys()\n",
    "    )\n",
    "    for cons_label in constraints_to_scale:\n",
    "        cons = self.constraints[cons_label]\n",
    "        for par_k in cons[\"pars\"].keys():\n",
    "            v = cons[\"pars\"][par_k]\n",
    "            if hasattr(v, 'M'):\n",
    "                v.M /= (max(abs(v.M.max()), abs(v.M.min())) / 100)\n",
    "            else:\n",
    "                cons[\"pars\"][par_k] /= (max(abs(v.max()), abs(v.min())) / 100)\n",
    "    "
   ]
  },
  {
   "cell_type": "code",
   "execution_count": null,
   "id": "e6fade68-4787-4797-bf66-19bc2c559ed5",
   "metadata": {},
   "outputs": [],
   "source": [
    "def improve_numerics(self):\n",
    "    from CIBUSmod.optimisation.feed_dist import IndexedMatrix\n",
    "   \n",
    "    for name, C in self.constraints.items():\n",
    "        M = [obj for obj in C['pars'].values() if isinstance(obj, IndexedMatrix)]\n",
    "        assert len(M) == 1, \"Expected one and only one IndexedMatrix\"\n",
    "        M = M[0]\n",
    "        max_val = M.M.max()\n",
    "        for name, obj in C['pars'].items():\n",
    "            if isinstance(obj,IndexedMatrix):\n",
    "                obj.M = obj.M / max_val\n",
    "            else:\n",
    "                obj[:] = obj / max_val\n",
    "    print(\"Completed rescaling of matrices.\")\n",
    "\n",
    "improve_numerics(optproblem)"
   ]
  },
  {
   "cell_type": "markdown",
   "id": "7a71cc56-79c1-459b-8d6f-5a309e3790da",
   "metadata": {},
   "source": [
    "# Replace the objective function\n",
    "\n",
    "While the original optimisation objective focused on minimising the change, we now instead want to maximize the protein contents."
   ]
  },
  {
   "cell_type": "markdown",
   "id": "2ade2de3-5f0f-4ea2-a29a-62c2909f6849",
   "metadata": {},
   "source": [
    "## Mapping `x` to protein contents\n",
    "\n",
    "First we need to create a row-array that maps each element in `x` with its protein content, so that we compute the aggregate protein amount from the decision variable."
   ]
  },
  {
   "cell_type": "code",
   "execution_count": null,
   "id": "0d3da981-f184-43b3-852f-9f1123a9fb03",
   "metadata": {},
   "outputs": [],
   "source": [
    "PROTEIN_CONTENTS = {\n",
    "    \"meat\": 155.5,\n",
    "    \"milk\": 35.0,\n",
    "}\n",
    "\n",
    "# Convert to thousands of prot. / kg, instead of straight\n",
    "for k in PROTEIN_CONTENTS.keys():\n",
    "    PROTEIN_CONTENTS[k] /= 1e3\n",
    "\n",
    "def make_protein_mask_ani():\n",
    "    RELEVANT_ANIMAL_PRODUCTS = [\"meat\", \"milk\"]\n",
    "    \n",
    "    # Get row index from animal product demand vector (ps,sp,ap)\n",
    "    row_idx = pd.MultiIndex.from_tuples(\n",
    "        [\n",
    "            (\"conventional\", \"cattle\", \"meat\"),\n",
    "            (\"conventional\", \"cattle\", \"milk\"),\n",
    "            (\"organic\", \"cattle\", \"meat\"),\n",
    "            (\"organic\", \"cattle\", \"milk\"),\n",
    "        ],\n",
    "        names=[\"prod_system\", \"species\", \"animal_prod\"]\n",
    "    )\n",
    "\n",
    "    # Get col index from animal herds (sp,br,ps,ss,re)\n",
    "    col_idx = self.x_idx[\"ani\"]\n",
    "\n",
    "    # To store data and corresponding row/col numbers for constructing matrix\n",
    "    val = []\n",
    "    row_nr = []\n",
    "    col_nr = []\n",
    "\n",
    "    # Go through animal herds\n",
    "    for herd in self.herds:\n",
    "        sp = herd.species\n",
    "        br = herd.breed\n",
    "        ps = herd.prod_system\n",
    "        ss = herd.sub_system\n",
    "\n",
    "        if sp != \"cattle\":\n",
    "            continue\n",
    "\n",
    "        def get_uniq(col):\n",
    "            return herd.data_attr.get(\"production\").columns.unique(col)\n",
    "        \n",
    "        # Get all animal products that we are concerned with\n",
    "        aps = set(get_uniq(\"animal_prod\")) & set(RELEVANT_ANIMAL_PRODUCTS)\n",
    "        opss = get_uniq(\"prod_system\")\n",
    "        \n",
    "        for ap, ops in product(aps, opss):\n",
    "            if (ops, sp, ap) not in row_idx:\n",
    "                continue\n",
    "        \n",
    "            # Get production of animal product (ap) from output production system (ops) per head\n",
    "            # of defining animal of species (sp) and breed (br) in production system (ps), sub system (ss)\n",
    "            # and region (re)\n",
    "            res = (\n",
    "                herd.data_attr.get(\"production\")\n",
    "                .loc[:, (ops, slice(None), ap)]\n",
    "                .sum(axis=1)\n",
    "            ) * PROTEIN_CONTENTS[ap]\n",
    "        \n",
    "            if all(res == 0):\n",
    "                continue\n",
    "        \n",
    "            val.extend(res)\n",
    "            col_nr.extend([col_idx.get_loc((sp, br, ps, ss, re)) for re in res.index])\n",
    "            row_nr.extend(np.zeros(len(res)))\n",
    "\n",
    "    # Aggregate data_coords_pair to ensure that any overlapping values are summed rather than replace each other\n",
    "    val, (row_nr, col_nr) = aggregate_data_coords_pair(val, row_nr, col_nr)\n",
    "\n",
    "    # Create Compressed Sparse Column matrix\n",
    "    return scipy.sparse.coo_array((val, (row_nr, col_nr)), shape=(1, len(col_idx))).tocsc()\n",
    "\n",
    "\n",
    "def make_protein_mask():\n",
    "    A_ani = make_protein_mask_ani()\n",
    "    A_crp = scipy.sparse.csc_matrix((1, len(self.x_idx[\"crp\"])))\n",
    "    A_fds = scipy.sparse.csc_matrix((1, len(self.x_idx[\"fds\"])))\n",
    "\n",
    "    return scipy.sparse.hstack([A_ani, A_crp, A_fds], format=\"csc\")\n",
    "\n",
    "make_protein_mask()"
   ]
  },
  {
   "cell_type": "markdown",
   "id": "b5f1d05d-62e9-4f55-80cc-4ed64fe4f281",
   "metadata": {},
   "source": [
    "### Quick validity check\n",
    "\n",
    "Ensure we only have values in the protein map where we expect to, i.e. for the added crops and for cattle."
   ]
  },
  {
   "cell_type": "code",
   "execution_count": null,
   "id": "1232c0ca-9528-4b0a-9f9f-5893e385214d",
   "metadata": {},
   "outputs": [],
   "source": [
    "df_ani = pd.DataFrame(make_protein_mask_ani(), columns=self.x_idx[\"ani\"])\n",
    "\n",
    "# Check that only cattle has values in the ani part of the protein mask\n",
    "for sp in df_ani.columns.unique(\"species\"):\n",
    "    is_all_zeroes = (df_ani.loc[:,(sp, slice(None), slice(None), slice(None), slice(None))]==0).all().all()\n",
    "    is_cattle = sp == \"cattle\"\n",
    "    assert is_all_zeroes != is_cattle"
   ]
  },
  {
   "cell_type": "markdown",
   "id": "7f38e19f-93a5-473e-8009-873897576d66",
   "metadata": {},
   "source": [
    "## Construct and replace the `cvxpy.Problem`"
   ]
  },
  {
   "cell_type": "code",
   "execution_count": null,
   "id": "42e8d1cc-62f6-491c-8091-c016cb57f440",
   "metadata": {},
   "outputs": [],
   "source": [
    "self.solve(\n",
    "    apply_solution=True,\n",
    "    verbose=True,\n",
    "    solver_settings=[{\n",
    "        \"solver\": \"GUROBI\",\n",
    "        \"reoptimize\": True,\n",
    "        \"verbose\": True,\n",
    "    }]\n",
    ")"
   ]
  },
  {
   "cell_type": "code",
   "execution_count": null,
   "id": "2b7ba874-f152-48f4-acfe-fb46edca639a",
   "metadata": {},
   "outputs": [],
   "source": [
    "self.feed_mgmt.calculate()"
   ]
  },
  {
   "cell_type": "code",
   "execution_count": null,
   "id": "43734484-a204-4dfd-9c63-42a8d664040a",
   "metadata": {},
   "outputs": [],
   "source": [
    "protein_amount = (make_protein_mask() @ (self.problem.variables()[0]).value)[0]\n",
    "print(f\"{protein_amount:e}\")"
   ]
  },
  {
   "cell_type": "markdown",
   "id": "d7a87778-b257-4bb4-b481-77e1819dfddf",
   "metadata": {},
   "source": [
    "# Plot results"
   ]
  },
  {
   "cell_type": "code",
   "execution_count": null,
   "id": "2768b0d7-8986-4f72-b6f5-08c63a23afd6",
   "metadata": {},
   "outputs": [],
   "source": [
    "session.store(\n",
    "    scn, 2020,\n",
    "    demand, regions, crops, herds, optproblem\n",
    ")"
   ]
  },
  {
   "cell_type": "code",
   "execution_count": null,
   "id": "46cc3b9f-e2fe-4552-bb03-2f1731b78af8",
   "metadata": {},
   "outputs": [],
   "source": [
    "cm.plot.bar(\n",
    "    session.get_attr('c', 'area', {'crop': ['land_use',None], 'region':None}).iloc[0].unstack('crop'),\n",
    "    group_levels='land_use'\n",
    ")\n",
    "\n",
    "plt.show()   "
   ]
  },
  {
   "cell_type": "code",
   "execution_count": null,
   "id": "7c63afce-21fd-46b6-af2a-34116874b36c",
   "metadata": {},
   "outputs": [],
   "source": [
    "cm.plot.bar(\n",
    "    session.get_attr('a', 'heads', ['region','species']).iloc[0].unstack('species')\n",
    ")\n",
    "plt.show()"
   ]
  }
 ],
 "metadata": {
  "kernelspec": {
   "display_name": "Python 3 (ipykernel)",
   "language": "python",
   "name": "python3"
  },
  "language_info": {
   "codemirror_mode": {
    "name": "ipython",
    "version": 3
   },
   "file_extension": ".py",
   "mimetype": "text/x-python",
   "name": "python",
   "nbconvert_exporter": "python",
   "pygments_lexer": "ipython3",
   "version": "3.13.2"
  }
 },
 "nbformat": 4,
 "nbformat_minor": 5
}
