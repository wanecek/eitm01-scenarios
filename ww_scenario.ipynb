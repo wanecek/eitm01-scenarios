{
 "cells": [
  {
   "cell_type": "markdown",
   "id": "a02f2bd4-c09b-4ea7-9a9e-92b1ea830a9f",
   "metadata": {},
   "source": [
    "# Scenario modelling"
   ]
  },
  {
   "cell_type": "markdown",
   "id": "801f21da-37a2-44ee-8436-61fe34b02714",
   "metadata": {},
   "source": [
    "## Set up environment"
   ]
  },
  {
   "cell_type": "code",
   "execution_count": 2,
   "id": "546f6200-20d6-4100-8645-7fb2810dcc94",
   "metadata": {},
   "outputs": [],
   "source": [
    "CM_BASEPATH = '../CIBUSmod'\n",
    "\n",
    "import sys\n",
    "import os\n",
    "sys.path.insert(0, os.path.join(os.getcwd(), CM_BASEPATH))"
   ]
  },
  {
   "cell_type": "code",
   "execution_count": 3,
   "id": "b2f6ea11-b95c-4de1-a0ed-280675beaa50",
   "metadata": {},
   "outputs": [],
   "source": [
    "import CIBUSmod as cm\n",
    "import CIBUSmod.utils.plot as plot\n",
    "\n",
    "import time\n",
    "import numpy as np\n",
    "import pandas as pd\n",
    "import scipy\n",
    "import matplotlib.pyplot as plt\n",
    "import cvxpy"
   ]
  },
  {
   "cell_type": "code",
   "execution_count": 4,
   "id": "31addc8c-8d1e-405b-8e94-054c50cecde4",
   "metadata": {},
   "outputs": [],
   "source": [
    "from CIBUSmod.utils.misc import inv_dict, aggregate_data_coords_pair\n",
    "from CIBUSmod.optimisation.indexed_matrix import IndexedMatrix\n",
    "from CIBUSmod.optimisation.utils import make_cvxpy_constraint\n",
    "from itertools import product"
   ]
  },
  {
   "cell_type": "code",
   "execution_count": 4,
   "id": "57d51304-0186-4af9-8154-135c83345793",
   "metadata": {},
   "outputs": [
    {
     "name": "stdout",
     "output_type": "stream",
     "text": [
      "A scenario with the name 'base' already exists use .update_scenario() or .remove_scenario() instead.\n"
     ]
    }
   ],
   "source": [
    "# Create session\n",
    "session = cm.Session(\n",
    "    name = 'ww_scenarios',\n",
    "    data_path = CM_BASEPATH + \"/data\",\n",
    "    data_path_default = CM_BASEPATH + \"/data/default\",\n",
    "    data_path_scenarios = \"/home/wanecek/edu/exjobb/scenarios\"\n",
    ")\n",
    "\n",
    "# Load and apply scenario\n",
    "session.add_scenario(\n",
    "    \"base\",\n",
    "    years=[2020],\n",
    "    pars = \"all\",\n",
    "    scenario_workbooks=\"base\"\n",
    ")"
   ]
  },
  {
   "cell_type": "code",
   "execution_count": 5,
   "id": "dc57ad7e-6f8e-474e-9e9a-06a8819e693c",
   "metadata": {},
   "outputs": [
    {
     "name": "stderr",
     "output_type": "stream",
     "text": [
      "/home/wanecek/edu/exjobb/scenarios/../CIBUSmod/CIBUSmod/utils/retriever.py:152: UserWarning: \n",
      "-----------------------------------------------------------------------------\n",
      "Some filter values included in data were not available in relation_tables.xlsx.\n",
      "Missing for 'feed': 'maize gluten meal', 'minerals', 'rapeseed cake'\n",
      "Missing for 'by_prod': 'soybean protein concentrate', 'luzern meal', 'cream', 'fish meal', 'palm kernel expeller', 'soybean meal'\n",
      "------------------------------------------------------------------------------\n",
      "  warnings.warn(f\"\"\"\n",
      "/home/wanecek/edu/exjobb/scenarios/../CIBUSmod/CIBUSmod/utils/retriever.py:152: UserWarning: \n",
      "-----------------------------------------------------------------------------\n",
      "Some filter values included in data were not available in relation_tables.xlsx.\n",
      "Missing for 'feed': 'maize gluten meal', 'minerals', 'rapeseed cake'\n",
      "Missing for 'by_prod': 'soybean protein concentrate', 'luzern meal', 'cream', 'fish meal', 'palm kernel expeller', 'soybean meal'\n",
      "------------------------------------------------------------------------------\n",
      "  warnings.warn(f\"\"\"\n",
      "/home/wanecek/edu/exjobb/scenarios/../CIBUSmod/CIBUSmod/utils/retriever.py:152: UserWarning: \n",
      "-----------------------------------------------------------------------------\n",
      "Some filter values included in data were not available in relation_tables.xlsx.\n",
      "Missing for 'feed': 'maize gluten meal', 'minerals', 'rapeseed cake'\n",
      "Missing for 'by_prod': 'soybean protein concentrate', 'luzern meal', 'cream', 'fish meal', 'palm kernel expeller', 'soybean meal'\n",
      "------------------------------------------------------------------------------\n",
      "  warnings.warn(f\"\"\"\n",
      "/home/wanecek/edu/exjobb/scenarios/../CIBUSmod/CIBUSmod/utils/retriever.py:152: UserWarning: \n",
      "-----------------------------------------------------------------------------\n",
      "Some filter values included in data were not available in relation_tables.xlsx.\n",
      "Missing for 'feed': 'maize gluten meal', 'minerals', 'rapeseed cake'\n",
      "Missing for 'by_prod': 'soybean protein concentrate', 'luzern meal', 'cream', 'fish meal', 'palm kernel expeller', 'soybean meal'\n",
      "------------------------------------------------------------------------------\n",
      "  warnings.warn(f\"\"\"\n",
      "/home/wanecek/edu/exjobb/scenarios/../CIBUSmod/CIBUSmod/utils/retriever.py:152: UserWarning: \n",
      "-----------------------------------------------------------------------------\n",
      "Some filter values included in data were not available in relation_tables.xlsx.\n",
      "Missing for 'feed': 'maize gluten meal', 'minerals', 'rapeseed cake'\n",
      "Missing for 'by_prod': 'soybean protein concentrate', 'luzern meal', 'cream', 'fish meal', 'palm kernel expeller', 'soybean meal'\n",
      "------------------------------------------------------------------------------\n",
      "  warnings.warn(f\"\"\"\n"
     ]
    },
    {
     "name": "stdout",
     "output_type": "stream",
     "text": [
      "CPU times: user 6.42 s, sys: 89.9 ms, total: 6.51 s\n",
      "Wall time: 6.58 s\n"
     ]
    }
   ],
   "source": [
    "%%time\n",
    "\n",
    "retrievers = {\n",
    "    'Regions': cm.ParameterRetriever('Regions'),\n",
    "    'DemandAndConversions': cm.ParameterRetriever('DemandAndConversions'),\n",
    "    'CropProduction': cm.ParameterRetriever('CropProduction'),\n",
    "    'FeedMgmt': cm.ParameterRetriever('FeedMgmt'),\n",
    "    'GeoDistributor': cm.ParameterRetriever('GeoDistributor'),\n",
    "}\n",
    "\n",
    "for par in retrievers.values():\n",
    "    par.update_all_parameter_values(**session[\"base\"], year=2020)\n",
    "\n",
    "# Instatiate Regions\n",
    "regions = cm.Regions(\n",
    "    par = retrievers['Regions'],\n",
    ")\n",
    "\n",
    "# Instantiate DemandAndConversions\n",
    "demand = cm.DemandAndConversions(\n",
    "    par = retrievers['DemandAndConversions'],\n",
    ")\n",
    "\n",
    "# Instantiate CropProduction\n",
    "crops = cm.CropProduction(\n",
    "    par = retrievers['CropProduction'],\n",
    "    index = regions.data_attr.get('x0_crops').index\n",
    ")\n",
    "\n",
    "# Instantiate AnimalHerds\n",
    "# Each AnimalHerd object is stored in an indexed pandas.Series\n",
    "herds = cm.make_herds(regions)\n",
    "\n",
    "# Instantiate feed management\n",
    "feed_mgmt = cm.FeedMgmt(\n",
    "    herds = herds,\n",
    "    par = retrievers['FeedMgmt'],\n",
    ")\n",
    "\n",
    "# Instantiate geo distributor\n",
    "optproblem = cm.FeedDistributor(\n",
    "    regions = regions,\n",
    "    demand = demand,\n",
    "    crops = crops,\n",
    "    herds = herds,\n",
    "    feed_mgmt = feed_mgmt,\n",
    "    par = retrievers['GeoDistributor'],\n",
    ")\n",
    "\n",
    "self = optproblem"
   ]
  },
  {
   "cell_type": "code",
   "execution_count": null,
   "id": "ba028f28-25bc-43d1-85dc-65ecab03d010",
   "metadata": {},
   "outputs": [
    {
     "name": "stderr",
     "output_type": "stream",
     "text": [
      "/home/wanecek/edu/exjobb/scenarios/../CIBUSmod/CIBUSmod/utils/retriever.py:152: UserWarning: \n",
      "-----------------------------------------------------------------------------\n",
      "Some filter values included in data were not available in relation_tables.xlsx.\n",
      "Missing for 'feed': 'maize gluten meal', 'minerals', 'rapeseed cake'\n",
      "Missing for 'by_prod': 'soybean protein concentrate', 'luzern meal', 'cream', 'fish meal', 'palm kernel expeller', 'soybean meal'\n",
      "------------------------------------------------------------------------------\n",
      "  warnings.warn(f\"\"\"\n",
      "/home/wanecek/edu/exjobb/scenarios/../CIBUSmod/CIBUSmod/utils/retriever.py:152: UserWarning: \n",
      "-----------------------------------------------------------------------------\n",
      "Some filter values included in data were not available in relation_tables.xlsx.\n",
      "Missing for 'feed': 'maize gluten meal', 'minerals', 'rapeseed cake'\n",
      "Missing for 'by_prod': 'soybean protein concentrate', 'luzern meal', 'cream', 'fish meal', 'palm kernel expeller', 'soybean meal'\n",
      "------------------------------------------------------------------------------\n",
      "  warnings.warn(f\"\"\"\n",
      "/home/wanecek/edu/exjobb/scenarios/../CIBUSmod/CIBUSmod/main_modules/demand_and_conversions.py:167: PerformanceWarning: indexing past lexsort depth may impact performance.\n",
      "  share_per_prod_system.update(share_con)\n",
      "/home/wanecek/edu/exjobb/scenarios/../CIBUSmod/CIBUSmod/main_modules/demand_and_conversions.py:171: PerformanceWarning: indexing past lexsort depth may impact performance.\n",
      "  share_per_origin.loc[:, \"domestic\"] = 1 - share_per_origin.loc[:, \"imported\"]\n",
      "/home/wanecek/edu/exjobb/scenarios/../CIBUSmod/CIBUSmod/main_modules/demand_and_conversions.py:431: UserWarning: Warning: _fix_cream_balance failed. No food_groups for food group 'Milk and products 1-2% fat' found.\n",
      "  warnings.warn(\"Warning: _fix_cream_balance failed. \" + str(e))\n"
     ]
    },
    {
     "name": "stdout",
     "output_type": "stream",
     "text": [
      "[ME, DM, fat, AAT, PBV] [ME, DM, fat, AAT, PBV] [ME, DM, fat, AAT, PBV] [ME, DM, fat, AAT, PBV] [ME, DM, fat, AAT, PBV] [ME, DM, fat, AAT, PBV] [ME] [ME] [ME] [ME] [ME] [ME] [ME] [ME] [NE] [NE] [DM] [DM] [DM] [DM] [DM] [DM] [DM] [DM] [DM] [DM] [DM] [DM] "
     ]
    }
   ],
   "source": [
    "cm.ParameterRetriever.update_all_parameter_values()\n",
    "cm.ParameterRetriever.update_relation_tables()\n",
    "\n",
    "cm.ParameterRetriever.update_all_parameter_values(**session[\"base\"], year=2020)\n",
    "\n",
    "regions.calculate()\n",
    "demand.calculate()\n",
    "crops.calculate()\n",
    "for h in herds:\n",
    "    h.calculate()\n",
    "\n",
    "self.make(use_cons=[1, 2, 3, 4, 5, 6, 11, 12, 13, 14])"
   ]
  },
  {
   "cell_type": "markdown",
   "id": "7a71cc56-79c1-459b-8d6f-5a309e3790da",
   "metadata": {},
   "source": [
    "# Replace the objective function\n",
    "\n",
    "While the original optimisation objective focused on minimising the change, we now instead want to maximize the protein contents."
   ]
  },
  {
   "cell_type": "markdown",
   "id": "2ade2de3-5f0f-4ea2-a29a-62c2909f6849",
   "metadata": {},
   "source": [
    "## Mapping `x` to protein contents\n",
    "\n",
    "First we need to create a row-array that maps each element in `x` with its protein content, so that we compute the aggregate protein amount from the decision variable."
   ]
  },
  {
   "cell_type": "code",
   "execution_count": null,
   "id": "0d3da981-f184-43b3-852f-9f1123a9fb03",
   "metadata": {},
   "outputs": [],
   "source": [
    "PROTEIN_CONTENTS = {\n",
    "    \"Peas (add)\": 12.2,\n",
    "    \"Wheat (add)\": 5.20,\n",
    "    \"meat\": 100.0,\n",
    "    \"milk\": 10.0,\n",
    "}\n",
    "\n",
    "def make_protein_mask_ani():\n",
    "    RELEVANT_ANIMAL_PRODUCTS = [\"meat\", \"milk\"]\n",
    "    \n",
    "    # Get row index from animal product demand vector (ps,sp,ap)\n",
    "    row_idx = pd.MultiIndex.from_tuples(\n",
    "        filter(\n",
    "            lambda tup: tup[1] == \"cattle\" and tup[2] in [\"meat\", \"milk\"], \n",
    "            self.D_idx[\"ani\"].values\n",
    "        ),\n",
    "        names=self.D_idx[\"ani\"].names\n",
    "    )\n",
    "\n",
    "    # Get col index from animal herds (sp,br,ps,ss,re)\n",
    "    col_idx = self.x_idx[\"ani\"]\n",
    "\n",
    "    # To store data and corresponding row/col numbers for constructing matrix\n",
    "    val = []\n",
    "    row_nr = []\n",
    "    col_nr = []\n",
    "\n",
    "    # Go through animal herds\n",
    "    for herd in self.herds:\n",
    "        sp = herd.species\n",
    "        br = herd.breed\n",
    "        ps = herd.prod_system\n",
    "        ss = herd.sub_system\n",
    "\n",
    "        if sp != \"cattle\":\n",
    "            continue\n",
    "\n",
    "        def get_uniq(col):\n",
    "            return herd.data_attr.get(\"production\").columns.unique(col)\n",
    "        \n",
    "        # Get all animal products that we are concerned with\n",
    "        aps = set(get_uniq(\"animal_prod\")) & set(RELEVANT_ANIMAL_PRODUCTS)\n",
    "        opss = get_uniq(\"prod_system\")\n",
    "        \n",
    "        for ap, ops in product(aps, opss):\n",
    "            if (ops, herd.species, ap) not in row_idx:\n",
    "                continue\n",
    "        \n",
    "            # Get production of animal product (ap) from output production system (ops) per head\n",
    "            # of defining animal of species (sp) and breed (br) in production system (ps), sub system (ss)\n",
    "            # and region (re)\n",
    "            res = (\n",
    "                herd.data_attr.get(\"production\")\n",
    "                .loc[:, (ops, slice(None), ap)]\n",
    "                .sum(axis=1)\n",
    "            ) * PROTEIN_CONTENTS[ap]\n",
    "        \n",
    "            if all(res == 0):\n",
    "                continue\n",
    "        \n",
    "            val.extend(res)\n",
    "            col_nr.extend([col_idx.get_loc((sp, br, ps, ss, re)) for re in res.index])\n",
    "            row_nr.extend(np.zeros(len(res)))\n",
    "\n",
    "    # Aggregate data_coords_pair to ensure that any overlapping values are summed rather than replace each other\n",
    "    val, (row_nr, col_nr) = aggregate_data_coords_pair(val, row_nr, col_nr)\n",
    "\n",
    "    # Create Compressed Sparse Column matrix\n",
    "    return scipy.sparse.coo_array((val, (row_nr, col_nr)), shape=(1, len(col_idx))).tocsc()\n",
    "\n",
    "def make_protein_mask_crp():\n",
    "    wheat_locs = self.x_idx[\"crp\"].get_locs((\"Wheat (add)\", ))\n",
    "    peas_locs = self.x_idx[\"crp\"].get_locs((\"Peas (add)\", ))\n",
    "\n",
    "    val = ([PROTEIN_CONTENTS[\"Wheat (add)\"]] * len(wheat_locs)) + ([PROTEIN_CONTENTS[\"Peas (add)\"]] * len(peas_locs))\n",
    "    col_nr = [*wheat_locs, *peas_locs]\n",
    "    row_nr = np.zeros(len(val))\n",
    "\n",
    "    return scipy.sparse.coo_array(\n",
    "        (val, (row_nr, col_nr)),\n",
    "        shape=(1, len(self.x_idx[\"crp\"]))\n",
    "    ).tocsc()\n",
    "\n",
    "def make_protein_mask():\n",
    "    A_ani = make_protein_mask_ani()\n",
    "    A_crp = make_protein_mask_crp()\n",
    "    A_fds = scipy.sparse.csc_matrix((1, len(self.x_idx[\"fds\"])))\n",
    "\n",
    "    return scipy.sparse.hstack([A_ani, A_crp, A_fds], format=\"csc\")\n",
    "\n",
    "make_protein_mask()"
   ]
  },
  {
   "cell_type": "markdown",
   "id": "7f38e19f-93a5-473e-8009-873897576d66",
   "metadata": {},
   "source": [
    "## Construct and replace the `cvxpy.Problem`"
   ]
  },
  {
   "cell_type": "code",
   "execution_count": null,
   "id": "27866a90-c5ad-4bf8-b055-7c9c581b5ea9",
   "metadata": {},
   "outputs": [],
   "source": [
    "def construct_problem(objective_fn):\n",
    "    n = (\n",
    "        len(self.x_idx_short[\"ani\"])\n",
    "        + len(self.x_idx_short[\"crp\"])\n",
    "        + len(self.x_idx_short[\"fds\"])\n",
    "    )\n",
    "    x = cvxpy.Variable(n, nonneg=True)\n",
    "\n",
    "    # Append constraints\n",
    "    constraints = [\n",
    "        make_cvxpy_constraint(cons, x) for cons in self.constraints.values()\n",
    "    ]\n",
    "\n",
    "    # Define problem\n",
    "    return cvxpy.Problem(objective=objective_fn(x), constraints=constraints)\n",
    "\n",
    "    \n",
    "protein_map = make_protein_mask()\n",
    "self.problem = construct_problem(lambda x: cvxpy.Maximize(protein_map @ x))"
   ]
  },
  {
   "cell_type": "markdown",
   "id": "772fd937-2a0d-4fb9-a1db-430ee9f38fb0",
   "metadata": {},
   "source": [
    "# Run model"
   ]
  },
  {
   "cell_type": "code",
   "execution_count": null,
   "id": "71157e23-10c6-4f92-a0f9-aff534337d3d",
   "metadata": {},
   "outputs": [],
   "source": []
  },
  {
   "cell_type": "markdown",
   "id": "d7a87778-b257-4bb4-b481-77e1819dfddf",
   "metadata": {},
   "source": [
    "# Plot results"
   ]
  },
  {
   "cell_type": "code",
   "execution_count": null,
   "id": "46cc3b9f-e2fe-4552-bb03-2f1731b78af8",
   "metadata": {},
   "outputs": [],
   "source": [
    "cm.plot.bar(\n",
    "    session.get_attr('c','area',{'crop':['land_use',None],'region':None}).iloc[0].unstack('crop'),\n",
    "    group_levels='land_use'\n",
    ")\n",
    "\n",
    "plt.show()   "
   ]
  },
  {
   "cell_type": "code",
   "execution_count": null,
   "id": "7c63afce-21fd-46b6-af2a-34116874b36c",
   "metadata": {},
   "outputs": [],
   "source": [
    "cm.plot.bar(\n",
    "    session.get_attr('a','heads',['region','species']).iloc[0].unstack('species')\n",
    ")\n",
    "plt.show()"
   ]
  },
  {
   "cell_type": "markdown",
   "id": "2315fbbc-7908-4156-a00c-9c49dd65c610",
   "metadata": {},
   "source": [
    "# Archive"
   ]
  },
  {
   "cell_type": "raw",
   "id": "2327d0d8-4849-4758-9863-7eb8f0bb4908",
   "metadata": {},
   "source": [
    "par = self.feed_mgmt.par\n",
    "par.clear()\n",
    "\n",
    "# Ultimately, we want to map each feed to a protein-per-kg-feed content.\n",
    "## Start by fetching the protein contents where we have it\n",
    "row_idx = self.x_idx[\"fds\"]\n",
    "col_idx = pd.MultiIndex.from_product([[\"protein\"]], names=[\"feed_par\"])\n",
    "protein_map = (\n",
    "    par.get_from_frame(\n",
    "        \"feed_composition\",\n",
    "        pd.DataFrame(\n",
    "            index = row_idx,\n",
    "            columns = col_idx,\n",
    "            dtype = float\n",
    "        ),\n",
    "        warn_if_nan=False\n",
    "    )\n",
    "    # Drop original index - don't need it\n",
    "    .reset_index(drop=True)\n",
    "    # Add a numbered index\n",
    "    .reset_index(names=\"x_fds_i\")\n",
    "    # Drop any nans now that we have the x_fds_i index instead\n",
    "    .dropna(how=\"any\")\n",
    ")"
   ]
  }
 ],
 "metadata": {
  "kernelspec": {
   "display_name": "CIBUSmod-venv",
   "language": "python",
   "name": "cibusmod-venv"
  },
  "language_info": {
   "codemirror_mode": {
    "name": "ipython",
    "version": 3
   },
   "file_extension": ".py",
   "mimetype": "text/x-python",
   "name": "python",
   "nbconvert_exporter": "python",
   "pygments_lexer": "ipython3",
   "version": "3.12.7"
  }
 },
 "nbformat": 4,
 "nbformat_minor": 5
}
