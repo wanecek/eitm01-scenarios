{
 "cells": [
  {
   "cell_type": "code",
   "execution_count": 2,
   "id": "6888846c-5bb2-4f0f-a0ba-ccb44a52e0ef",
   "metadata": {},
   "outputs": [],
   "source": [
    "import numpy as np\n",
    "import pandas as pd\n",
    "from matplotlib import pyplot as plt"
   ]
  },
  {
   "cell_type": "code",
   "execution_count": 3,
   "id": "03492262-2c76-4042-a4c1-da666e506a01",
   "metadata": {},
   "outputs": [],
   "source": [
    "def display_perc(*args, **kwargs):\n",
    "    DEFAULT_FMT = pd.options.display.float_format\n",
    "    pd.options.display.float_format = '{:.2%}'.format\n",
    "    display(*args, **kwargs)\n",
    "    pd.options.display.float_format = DEFAULT_FMT"
   ]
  },
  {
   "cell_type": "code",
   "execution_count": 4,
   "id": "53c07549-4688-403f-aaa1-1d1b271ec702",
   "metadata": {},
   "outputs": [],
   "source": [
    "ani_gdist = pd.read_pickle(\"x_compare/ani.geodist.pkl\")\n",
    "crp_gdist = pd.read_pickle(\"x_compare/crp.geodist.pkl\")\n",
    "ani_fdist = pd.read_pickle(\"x_compare/ani.fdist.pkl\")\n",
    "crp_fdist = pd.read_pickle(\"x_compare/crp.fdist.pkl\")"
   ]
  },
  {
   "cell_type": "code",
   "execution_count": 8,
   "id": "4fe536b0-28d3-41c1-ad93-f5c1cda3e08f",
   "metadata": {},
   "outputs": [
    {
     "data": {
      "text/plain": [
       "species  breed                        prod_system \n",
       "cattle   beef                         conventional   -5.06%\n",
       "                                      organic        -0.99%\n",
       "         dairy                        conventional    2.74%\n",
       "                                      organic         3.02%\n",
       "horses   cold blooded horses          conventional   -0.81%\n",
       "                                      organic        95.85%\n",
       "         ponies and Icelandic horses  conventional    1.14%\n",
       "                                      organic        94.95%\n",
       "         riding horses                conventional   -0.74%\n",
       "                                      organic        95.82%\n",
       "         trotters and racehorses      conventional   -0.02%\n",
       "                                      organic        92.88%\n",
       "dtype: float64"
      ]
     },
     "metadata": {},
     "output_type": "display_data"
    }
   ],
   "source": [
    "ANI_SYS_COLS = [\"species\", \"breed\", \"prod_system\"]\n",
    "national_ani_f = ani_fdist.groupby(ANI_SYS_COLS).sum()\n",
    "national_ani_g = ani_gdist.groupby(ANI_SYS_COLS).sum()\n",
    "\n",
    "ani_delta = (1 -  national_ani_f / national_ani_g)\n",
    "ani_delta = ani_delta[ani_delta.abs() > 1e-8]\n",
    "display_perc(ani_delta)"
   ]
  },
  {
   "cell_type": "code",
   "execution_count": 14,
   "id": "93698cf7-ac84-4ead-982c-983912cfd7bf",
   "metadata": {},
   "outputs": [],
   "source": [
    "national_crp_f = crp_fdist.groupby([\"crop\", \"prod_system\"]).sum()\n",
    "national_crp_g = crp_gdist.groupby([\"crop\", \"prod_system\"]).sum()"
   ]
  },
  {
   "cell_type": "code",
   "execution_count": 16,
   "id": "aa2409fe-2d23-4ef4-8275-cb74bd97b8af",
   "metadata": {},
   "outputs": [
    {
     "data": {
      "text/plain": [
       "crop               prod_system \n",
       "Apples             conventional    -0.18%\n",
       "                   organic         -0.11%\n",
       "Barley, spring     conventional    19.08%\n",
       "                   organic         25.18%\n",
       "Barley, winter     conventional    44.91%\n",
       "                                    ...  \n",
       "Triticale, winter  organic         43.68%\n",
       "Wheat, spring      conventional     6.44%\n",
       "                   organic        -11.60%\n",
       "Wheat, winter      conventional     6.94%\n",
       "                   organic        -14.89%\n",
       "Length: 99, dtype: float64"
      ]
     },
     "metadata": {},
     "output_type": "display_data"
    }
   ],
   "source": [
    "crp_delta = (1 -  national_crp_f / national_crp_g)\n",
    "crp_delta = crp_delta[crp_delta.abs() > 1e-8]\n",
    "display_perc(crp_delta)"
   ]
  }
 ],
 "metadata": {
  "kernelspec": {
   "display_name": "Python 3 (ipykernel)",
   "language": "python",
   "name": "python3"
  },
  "language_info": {
   "codemirror_mode": {
    "name": "ipython",
    "version": 3
   },
   "file_extension": ".py",
   "mimetype": "text/x-python",
   "name": "python",
   "nbconvert_exporter": "python",
   "pygments_lexer": "ipython3",
   "version": "3.13.2"
  }
 },
 "nbformat": 4,
 "nbformat_minor": 5
}
